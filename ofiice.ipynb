{
 "cells": [
  {
   "cell_type": "code",
   "execution_count": 29,
   "id": "21ca0bf2",
   "metadata": {},
   "outputs": [
    {
     "name": "stderr",
     "output_type": "stream",
     "text": [
      "/home/bhavik/.local/lib/python3.8/site-packages/pandas/compat/_optional.py:161: UserWarning: Pandas requires version '1.2.2' or newer of 'xlsxwriter' (version '1.1.2' currently installed).\n",
      "  warnings.warn(msg, UserWarning)\n"
     ]
    }
   ],
   "source": [
    "import pandas as pd\n",
    "\n",
    "df = pd.read_excel(\"/home/bhavik/Downloads/amend_shift_1_to_12/12- Dec - To Upload.xlsx\")\n",
    "\n",
    "rows_per_file = 2000\n",
    "\n",
    "n_chunks = len(df) // rows_per_file\n",
    "\n",
    "for i in range(n_chunks):\n",
    "    start = i*rows_per_file\n",
    "    stop = (i+1) * rows_per_file\n",
    "    sub_df = df.iloc[start:stop]\n",
    "    sub_df.to_excel(f\"/home/bhavik/Documents/{start}-{stop}.xlsx\", sheet_name=\"a\")\n",
    "if stop < len(df):\n",
    "    sub_df = df.iloc[stop:]\n",
    "\n",
    "    sub_df.to_excel(f\"/home/bhavik/Documents/{start}-{stop}.xlsx\", sheet_name=\"a\")"
   ]
  },
  {
   "cell_type": "code",
   "execution_count": 8,
   "id": "719784a9",
   "metadata": {},
   "outputs": [
    {
     "name": "stdout",
     "output_type": "stream",
     "text": [
      "2\n"
     ]
    }
   ],
   "source": [
    "print(n_chunks)"
   ]
  },
  {
   "cell_type": "code",
   "execution_count": 12,
   "id": "40667783",
   "metadata": {},
   "outputs": [
    {
     "name": "stdout",
     "output_type": "stream",
     "text": [
      "0\n"
     ]
    }
   ],
   "source": [
    "print(n_chunks)"
   ]
  },
  {
   "cell_type": "code",
   "execution_count": 13,
   "id": "203d816b",
   "metadata": {},
   "outputs": [
    {
     "name": "stdout",
     "output_type": "stream",
     "text": [
      "1999\n"
     ]
    }
   ],
   "source": [
    "print(len(df))"
   ]
  },
  {
   "cell_type": "code",
   "execution_count": null,
   "id": "0ef541cb",
   "metadata": {},
   "outputs": [],
   "source": []
  }
 ],
 "metadata": {
  "kernelspec": {
   "display_name": "Python 3 (ipykernel)",
   "language": "python",
   "name": "python3"
  },
  "language_info": {
   "codemirror_mode": {
    "name": "ipython",
    "version": 3
   },
   "file_extension": ".py",
   "mimetype": "text/x-python",
   "name": "python",
   "nbconvert_exporter": "python",
   "pygments_lexer": "ipython3",
   "version": "3.8.10"
  }
 },
 "nbformat": 4,
 "nbformat_minor": 5
}
